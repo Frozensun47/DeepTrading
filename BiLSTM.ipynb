{
 "cells": [
  {
   "cell_type": "code",
   "execution_count": 1,
   "metadata": {},
   "outputs": [],
   "source": [
    "import numpy as np\n",
    "import pandas as pd\n",
    "import datetime\n",
    "import matplotlib.pyplot as plt\n",
    "import plotly.graph_objects as go\n",
    "\n",
    "from sklearn.preprocessing import MinMaxScaler\n",
    "\n",
    "import tensorflow as tf\n",
    "from tensorflow.keras.layers import Input, LSTM, Dense, BatchNormalization\n",
    "from tensorflow.keras.models import Model\n",
    "from tensorflow.keras import backend as K"
   ]
  },
  {
   "cell_type": "code",
   "execution_count": 2,
   "metadata": {},
   "outputs": [
    {
     "data": {
      "text/plain": [
       "[PhysicalDevice(name='/physical_device:CPU:0', device_type='CPU'),\n",
       " PhysicalDevice(name='/physical_device:GPU:0', device_type='GPU')]"
      ]
     },
     "execution_count": 2,
     "metadata": {},
     "output_type": "execute_result"
    }
   ],
   "source": [
    "devices = tf.config.list_physical_devices()\n",
    "tf.config.set_visible_devices(devices[0])\n",
    "devices\n"
   ]
  },
  {
   "cell_type": "code",
   "execution_count": 3,
   "metadata": {},
   "outputs": [
    {
     "name": "stdout",
     "output_type": "stream",
     "text": [
      "(329210, 10, 4) (82292, 10, 4) (329210, 20) (82292, 20)\n"
     ]
    }
   ],
   "source": [
    "csv_filename = 'stock_data.csv'\n",
    "df = pd.read_csv(csv_filename)\n",
    "df['timestamp'] = pd.to_datetime(df['timestamp'])\n",
    "df.set_index('timestamp', inplace=True)\n",
    "train_data = df[['open','high','low','close']][:int(0.8*len(df))]\n",
    "test_data = df[['open','high','low','close']][int(0.8*len(df)):]\n",
    "# Scale the data\n",
    "# scaler = MinMaxScaler(feature_range=(0, 1))\n",
    "# scaled_train_data = scaler.fit_transform(train_data)\n",
    "# scaled_test_data = scaler.transform(test_data)\n",
    "scaled_test_dataX = np.array(test_data)\n",
    "scaled_test_dataY = np.array(test_data)#[['open']])\n",
    "scaled_train_dataX = np.array(train_data)\n",
    "scaled_train_dataY = np.array(train_data)#[['open']])\n",
    "def create_sequences(dataX,dataY, input_seq_length, seq_length):\n",
    "    X = []\n",
    "    y = []\n",
    "    for i in range(len(dataX)-input_seq_length-seq_length):\n",
    "        X.append(dataX[i:i+input_seq_length, :])\n",
    "        y.append(dataY[i+input_seq_length:i+input_seq_length+seq_length, :])\n",
    "    return np.array(X), np.array(y)\n",
    "input_seq_length = 10\n",
    "seq_length = 5\n",
    "X_train, y_train = create_sequences(\n",
    "    scaled_train_dataX, scaled_train_dataY, input_seq_length, seq_length)\n",
    "X_test, y_test = create_sequences(\n",
    "    scaled_test_dataX, scaled_test_dataY, input_seq_length, seq_length)\n",
    "X_train = np.reshape(\n",
    "    X_train, (X_train.shape[0], X_train.shape[1], X_train.shape[2]))\n",
    "X_test = np.reshape(\n",
    "    X_test, (X_test.shape[0], X_test.shape[1], X_test.shape[2]))\n",
    "y_train=y_train.reshape(-1,seq_length * 4)\n",
    "y_test = y_test.reshape(-1,seq_length*4)\n",
    "X_train = np.reshape(\n",
    "    X_train, (X_train.shape[0], X_train.shape[1], X_train.shape[2]))\n",
    "X_test = np.reshape(\n",
    "    X_test, (X_test.shape[0], X_test.shape[1], X_test.shape[2]))\n",
    "print(np.shape(X_train),np.shape(X_test),np.shape(y_train),np.shape(y_test))"
   ]
  },
  {
   "cell_type": "code",
   "execution_count": 4,
   "metadata": {},
   "outputs": [],
   "source": [
    "def custom_loss(y_true, y_pred):\n",
    "    mse = K.mean(K.square(y_true - y_pred))\n",
    "    mae = K.mean(K.abs(y_true - y_pred))\n",
    "    custom_loss = 0.7 * mse + 0.3 * mae\n",
    "    return custom_loss\n"
   ]
  },
  {
   "cell_type": "markdown",
   "metadata": {},
   "source": [
    "One LSTM layer \n",
    "64 neurons\n",
    "128 Dense"
   ]
  },
  {
   "cell_type": "code",
   "execution_count": 5,
   "metadata": {},
   "outputs": [],
   "source": [
    "input_shape = (10, 4)\n",
    "X_input = Input(shape=input_shape)\n",
    "X = X_input\n",
    "X = LSTM(64, return_sequences=False)(X)\n",
    "X = BatchNormalization()(X)\n",
    "X = Dense(128, activation='relu')(X)\n",
    "X = BatchNormalization()(X)\n",
    "output = Dense(20)(X)\n",
    "model = Model(inputs=X_input, outputs=output)\n",
    "model.compile(optimizer='adam',  loss=custom_loss)"
   ]
  },
  {
   "cell_type": "code",
   "execution_count": 7,
   "metadata": {},
   "outputs": [
    {
     "name": "stdout",
     "output_type": "stream",
     "text": [
      "Epoch 1/10\n",
      "2572/2572 [==============================] - 14s 5ms/step - loss: 2676.6802\n",
      "Epoch 2/10\n",
      "2572/2572 [==============================] - 13s 5ms/step - loss: 1.5810\n",
      "Epoch 3/10\n",
      "2572/2572 [==============================] - 13s 5ms/step - loss: 1.5936\n",
      "Epoch 4/10\n",
      "2572/2572 [==============================] - 13s 5ms/step - loss: 2.0409\n",
      "Epoch 5/10\n",
      "2572/2572 [==============================] - 14s 5ms/step - loss: 1.9267\n",
      "Epoch 6/10\n",
      "2572/2572 [==============================] - 13s 5ms/step - loss: 1.9280\n",
      "Epoch 7/10\n",
      "2572/2572 [==============================] - 13s 5ms/step - loss: 1.9518\n",
      "Epoch 8/10\n",
      "2572/2572 [==============================] - 13s 5ms/step - loss: 1.7542\n",
      "Epoch 9/10\n",
      "2572/2572 [==============================] - 13s 5ms/step - loss: 1.7138\n",
      "Epoch 10/10\n",
      "2572/2572 [==============================] - 13s 5ms/step - loss: 1.6383\n"
     ]
    }
   ],
   "source": [
    "history_lstm = model.fit(X_train, y_train, batch_size=128, epochs=10)"
   ]
  },
  {
   "cell_type": "code",
   "execution_count": 8,
   "metadata": {},
   "outputs": [
    {
     "data": {
      "image/png": "[encoded data removed]",
      "text/plain": [
       "<Figure size 640x480 with 1 Axes>"
      ]
     },
     "metadata": {},
     "output_type": "display_data"
    }
   ],
   "source": [
    "loss = history_lstm.history['loss']\n",
    "epochs = range(1, len(loss) + 1)\n",
    "plt.plot(epochs, loss, 'b', label='Training Loss')\n",
    "plt.title('Loss vs. Epoch')\n",
    "plt.xlabel('Epoch')\n",
    "plt.ylabel('Loss')\n",
    "plt.legend()\n",
    "plt.show()\n",
    "model.save('Model_weights/lstm1.h5')\n"
   ]
  },
  {
   "cell_type": "code",
   "execution_count": 9,
   "metadata": {},
   "outputs": [
    {
     "name": "stdout",
     "output_type": "stream",
     "text": [
      "2572/2572 [==============================] - 4s 1ms/step\n",
      "LSTM:\n",
      "RMSE: 5.39434958580051\n",
      "MAE: 5.2444994594556835\n",
      "MAPE: 2.9411162603866536\n",
      "R-squared: 0.8096729827732537\n"
     ]
    }
   ],
   "source": [
    "from sklearn.metrics import mean_squared_error, mean_absolute_error, mean_absolute_percentage_error\n",
    "\n",
    "\n",
    "def calculate_mape(actual, predicted):\n",
    "    return np.mean(np.abs((actual - predicted) / (actual+1e-9))) * 100\n",
    "\n",
    "\n",
    "def calculate_r_squared(actual, predicted):\n",
    "    ss_residual = np.sum((actual - predicted) ** 2)\n",
    "    ss_total = np.sum((actual - np.mean(actual)) ** 2)\n",
    "    r_squared = 1 - (ss_residual / ss_total)\n",
    "    return r_squared\n",
    "\n",
    "\n",
    "lstm_predictions = model.predict(X_test)\n",
    "lstm_rmse = np.sqrt(mean_squared_error(y_test, lstm_predictions))\n",
    "lstm_mae = mean_absolute_error(y_test, lstm_predictions)\n",
    "lstm_mape = calculate_mape(y_test, lstm_predictions)\n",
    "lstm_r_squared = calculate_r_squared(y_test, lstm_predictions)\n",
    "# Print the evaluation metrics\n",
    "print(\"LSTM:\")\n",
    "print(\"RMSE:\", lstm_rmse)\n",
    "print(\"MAE:\", lstm_mae)\n",
    "print(\"MAPE:\", lstm_mape)\n",
    "print(\"R-squared:\", lstm_r_squared)\n"
   ]
  },
  {
   "cell_type": "code",
   "execution_count": 10,
   "metadata": {},
   "outputs": [],
   "source": [
    "input_shape = (10, 4)\n",
    "X_input = Input(shape=input_shape)\n",
    "\n",
    "\n",
    "data_normalizer = tf.keras.layers.Normalization(axis=-1)\n",
    "data_normalizer.adapt(np.array(X_train))\n",
    "\n",
    "X_normalized = data_normalizer(X_input)\n",
    "X = X_normalized\n",
    "X = LSTM(64, return_sequences=False)(X)\n",
    "X = BatchNormalization()(X)\n",
    "X = Dense(128, activation='relu')(X)\n",
    "X = BatchNormalization()(X)\n",
    "output = Dense(20)(X)\n",
    "\n",
    "\n",
    "model = Model(inputs=X_input, outputs=output)\n",
    "model.compile(optimizer='adam', loss=custom_loss)\n"
   ]
  },
  {
   "cell_type": "code",
   "execution_count": 11,
   "metadata": {},
   "outputs": [
    {
     "name": "stdout",
     "output_type": "stream",
     "text": [
      "Epoch 1/10\n",
      "2572/2572 [==============================] - 15s 5ms/step - loss: 2683.5867\n",
      "Epoch 2/10\n",
      "2572/2572 [==============================] - 13s 5ms/step - loss: 1.3744\n",
      "Epoch 3/10\n",
      "1404/2572 [===============>..............] - ETA: 5s - loss: 1.3187"
     ]
    }
   ],
   "source": [
    "history_lstm = model.fit(X_train, y_train, batch_size=128, epochs=10)"
   ]
  },
  {
   "cell_type": "code",
   "execution_count": null,
   "metadata": {},
   "outputs": [],
   "source": [
    "historyloss = history_lstm.history['loss']\n",
    "epochs = range(1, len(loss) + 1)\n",
    "plt.plot(epochs, loss, 'b', label='Training Loss')\n",
    "plt.title('Loss vs. Epoch')\n",
    "plt.xlabel('Epoch')\n",
    "plt.ylabel('Loss')\n",
    "plt.legend()\n",
    "plt.show()\n",
    "model.save('Model_weights/lstm2.h5')"
   ]
  },
  {
   "cell_type": "code",
   "execution_count": null,
   "metadata": {},
   "outputs": [],
   "source": [
    "from sklearn.metrics import mean_squared_error, mean_absolute_error, mean_absolute_percentage_error\n",
    "def calculate_mape(actual, predicted):\n",
    "    return np.mean(np.abs((actual - predicted) / (actual+1e-9))) * 100\n",
    "def calculate_r_squared(actual, predicted):\n",
    "    ss_residual = np.sum((actual - predicted) ** 2)\n",
    "    ss_total = np.sum((actual - np.mean(actual)) ** 2)\n",
    "    r_squared = 1 - (ss_residual / ss_total)\n",
    "    return r_squared\n",
    "\n",
    "\n",
    "lstm_predictions = model.predict(X_test)\n",
    "lstm_rmse = np.sqrt(mean_squared_error(y_test, lstm_predictions))\n",
    "lstm_mae = mean_absolute_error(y_test, lstm_predictions)\n",
    "lstm_mape = calculate_mape(y_test, lstm_predictions)\n",
    "lstm_r_squared = calculate_r_squared(y_test, lstm_predictions)\n",
    "# Print the evaluation metrics\n",
    "print(\"LSTM:\")\n",
    "print(\"RMSE:\", lstm_rmse)\n",
    "print(\"MAE:\", lstm_mae)\n",
    "print(\"MAPE:\", lstm_mape)\n",
    "print(\"R-squared:\", lstm_r_squared)\n"
   ]
  }
 ],
 "metadata": {
  "kernelspec": {
   "display_name": "tf",
   "language": "python",
   "name": "python3"
  },
  "language_info": {
   "codemirror_mode": {
    "name": "ipython",
    "version": 3
   },
   "file_extension": ".py",
   "mimetype": "text/x-python",
   "name": "python",
   "nbconvert_exporter": "python",
   "pygments_lexer": "ipython3",
   "version": "3.9.16"
  },
  "orig_nbformat": 4
 },
 "nbformat": 4,
 "nbformat_minor": 2
}
